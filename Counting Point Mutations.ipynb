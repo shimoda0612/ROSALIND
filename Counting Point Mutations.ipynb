{
 "cells": [
  {
   "cell_type": "code",
   "execution_count": 28,
   "metadata": {
    "collapsed": true
   },
   "outputs": [],
   "source": [
    "def open_file() :\n",
    "    gene_list =[]\n",
    "    with open(\"rosalind_hamm.txt\", encoding=\"utf-8\") as f:\n",
    "        for row in f:\n",
    "            columns = row.rstrip()\n",
    "            gene_list.append(columns)\n",
    "        #print(gene_list)\n",
    "    gene_a = gene_list[0]\n",
    "    gene_b = gene_list[1]\n",
    "    return(gene_a,gene_b)"
   ]
  },
  {
   "cell_type": "code",
   "execution_count": 29,
   "metadata": {},
   "outputs": [],
   "source": [
    "def search_mutation(gene_a,gene_b):\n",
    "    count = 0\n",
    "    for (a,b) in zip(gene_a,gene_b) :\n",
    "        #print(a)\n",
    "        #print(b)\n",
    "        if not a == b :\n",
    "            count +=1\n",
    "    print(count)"
   ]
  },
  {
   "cell_type": "code",
   "execution_count": 30,
   "metadata": {},
   "outputs": [
    {
     "name": "stdout",
     "output_type": "stream",
     "text": [
      "475\n"
     ]
    }
   ],
   "source": [
    "if __name__ == \"__main__\" :\n",
    "    gene_a,gene_b = open_file()\n",
    "    search_mutation(gene_a,gene_b)\n",
    "    "
   ]
  },
  {
   "cell_type": "code",
   "execution_count": null,
   "metadata": {
    "collapsed": true
   },
   "outputs": [],
   "source": []
  },
  {
   "cell_type": "code",
   "execution_count": null,
   "metadata": {
    "collapsed": true
   },
   "outputs": [],
   "source": []
  }
 ],
 "metadata": {
  "kernelspec": {
   "display_name": "Python 3",
   "language": "python",
   "name": "python3"
  },
  "language_info": {
   "codemirror_mode": {
    "name": "ipython",
    "version": 3
   },
   "file_extension": ".py",
   "mimetype": "text/x-python",
   "name": "python",
   "nbconvert_exporter": "python",
   "pygments_lexer": "ipython3",
   "version": "3.6.2"
  }
 },
 "nbformat": 4,
 "nbformat_minor": 2
}
