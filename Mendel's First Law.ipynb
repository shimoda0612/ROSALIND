{
 "cells": [
  {
   "cell_type": "code",
   "execution_count": 66,
   "metadata": {
    "collapsed": true
   },
   "outputs": [],
   "source": [
    "def open_file():\n",
    "    with open(\"rosalind_iprb.txt\",encoding = \"utf-8\") as f:\n",
    "        read = f.read()\n",
    "        #print(read)\n",
    "        numbers = read.strip().split(\" \")\n",
    "        print(numbers)\n",
    "        # k individuals are homozygous dominant\n",
    "        k = int(numbers[0])\n",
    "        # m are heterozygous\n",
    "        m = int(numbers[1])\n",
    "        # n are homozygous recessive\n",
    "        n = int(numbers[2])\n",
    "    return k,m,n"
   ]
  },
  {
   "cell_type": "code",
   "execution_count": 67,
   "metadata": {},
   "outputs": [],
   "source": [
    "def probability(k,m,n) :\n",
    "    total = k + m + n\n",
    "    # think n and n pattern\n",
    "    recessive_a = n/total * (n-1)/(total-1) \n",
    "    # think n and m pattern\n",
    "    # probability of aa is 1/2 when Aa and aa are collected \n",
    "    # it is different (m -> n) and (n ->m) \n",
    "    recessive_b = n/total * m/(total-1) *(1/2)*2\n",
    "    # probability of aa is 1/4 when Aa and Aa are collected\n",
    "    recessive_c = m/total *(m-1)/(total-1)*(1/4)\n",
    "    dominant_prob = 1- recessive_a - recessive_b - recessive_c\n",
    "    print(\"{:.5f}\".format(dominant_prob))"
   ]
  },
  {
   "cell_type": "code",
   "execution_count": 68,
   "metadata": {},
   "outputs": [
    {
     "name": "stdout",
     "output_type": "stream",
     "text": [
      "['22', '20', '21']\n",
      "0.76062\n"
     ]
    }
   ],
   "source": [
    "if __name__ ==\"__main__\" :\n",
    "    k,m,n = open_file()\n",
    "    probability(k,m,n)"
   ]
  },
  {
   "cell_type": "code",
   "execution_count": null,
   "metadata": {},
   "outputs": [],
   "source": []
  },
  {
   "cell_type": "code",
   "execution_count": null,
   "metadata": {
    "collapsed": true
   },
   "outputs": [],
   "source": []
  }
 ],
 "metadata": {
  "kernelspec": {
   "display_name": "Python 3",
   "language": "python",
   "name": "python3"
  },
  "language_info": {
   "codemirror_mode": {
    "name": "ipython",
    "version": 3
   },
   "file_extension": ".py",
   "mimetype": "text/x-python",
   "name": "python",
   "nbconvert_exporter": "python",
   "pygments_lexer": "ipython3",
   "version": "3.6.2"
  }
 },
 "nbformat": 4,
 "nbformat_minor": 2
}
