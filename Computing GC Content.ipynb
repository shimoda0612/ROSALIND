{
 "cells": [
  {
   "cell_type": "code",
   "execution_count": 329,
   "metadata": {
    "collapsed": true
   },
   "outputs": [],
   "source": [
    "#open file and return \"DNA_name\" and \"sequence\"\n",
    "def open_file():\n",
    "    dna_data=[]\n",
    "    new_dna_data =[]\n",
    "    new_new_dna_data =[]\n",
    "    number_list = []\n",
    "    dna_dic = {}\n",
    "    with open(\"rosalind_gc.txt\", encoding=\"utf-8\") as f:\n",
    "        data = f.read()\n",
    "        dna_data = data.strip().split(\">\")\n",
    "        del dna_data[0]\n",
    "        #print(dna_data)\n",
    "        for a in dna_data:\n",
    "            a = a.replace(\"\\n\",\"\").replace(\"Rosalind_\",\"\")\n",
    "            new_dna_data.append(a)\n",
    "        #print(new_dna_data)\n",
    "        for a in new_dna_data :\n",
    "            number = a[0:4]\n",
    "            number_list.append(number)\n",
    "            a = a.replace(number,\"\")\n",
    "            new_new_dna_data.append(a)\n",
    "        #print(number_list)\n",
    "        #print(new_new_dna_data)\n",
    "    return(number_list,new_new_dna_data)"
   ]
  },
  {
   "cell_type": "code",
   "execution_count": 330,
   "metadata": {
    "collapsed": true
   },
   "outputs": [],
   "source": [
    "#input seq_name and seq_data and return most highest GC_rich data\n",
    "def count_GC(name,seq) :\n",
    "    GC_dic = {}\n",
    "    for (a,b) in zip(name,seq):\n",
    "        total_count = len(b)\n",
    "        GC_count = int(b.count(\"G\"))+int(b.count(\"C\"))\n",
    "        GC_ratio = int(GC_count)/int(total_count)*100\n",
    "        #print(total_count)\n",
    "        #print(GC_count)\n",
    "        #print(GC_ratio)\n",
    "        GC_dic[a]=GC_ratio\n",
    "    print(GC_dic)\n",
    "#http://cointoss.hatenablog.com/entry/2013/10/16/123129\n",
    "    MAX_name = max((v,k) for k,v in GC_dic.items())[1]\n",
    "    MAX_data = max(GC_dic.values())\n",
    "    #print(MAX_name)\n",
    "    #print(MAX_data)\n",
    "    print(\"Rosalind_{}\".format(MAX_name))\n",
    "    print(\"{:.6f}\".format(MAX_data))"
   ]
  },
  {
   "cell_type": "code",
   "execution_count": 331,
   "metadata": {},
   "outputs": [
    {
     "name": "stdout",
     "output_type": "stream",
     "text": [
      "{'1670': 48.580786026200876, '0216': 48.48790322580645, '2588': 50.259067357512954, '4936': 51.10410094637224, '0235': 50.3875968992248}\n",
      "Rosalind_4936\n",
      "51.104101\n"
     ]
    }
   ],
   "source": [
    "if __name__ == \"__main__\" :\n",
    "    name,seq = open_file()\n",
    "    count_GC(name,seq)"
   ]
  },
  {
   "cell_type": "code",
   "execution_count": null,
   "metadata": {
    "collapsed": true
   },
   "outputs": [],
   "source": []
  },
  {
   "cell_type": "code",
   "execution_count": null,
   "metadata": {
    "collapsed": true
   },
   "outputs": [],
   "source": []
  },
  {
   "cell_type": "code",
   "execution_count": null,
   "metadata": {
    "collapsed": true
   },
   "outputs": [],
   "source": []
  },
  {
   "cell_type": "code",
   "execution_count": null,
   "metadata": {
    "collapsed": true
   },
   "outputs": [],
   "source": []
  }
 ],
 "metadata": {
  "kernelspec": {
   "display_name": "Python 3",
   "language": "python",
   "name": "python3"
  },
  "language_info": {
   "codemirror_mode": {
    "name": "ipython",
    "version": 3
   },
   "file_extension": ".py",
   "mimetype": "text/x-python",
   "name": "python",
   "nbconvert_exporter": "python",
   "pygments_lexer": "ipython3",
   "version": "3.6.2"
  }
 },
 "nbformat": 4,
 "nbformat_minor": 2
}
