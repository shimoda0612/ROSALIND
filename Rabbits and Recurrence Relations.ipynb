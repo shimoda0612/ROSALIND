{
 "cells": [
  {
   "cell_type": "code",
   "execution_count": 99,
   "metadata": {
    "collapsed": true
   },
   "outputs": [],
   "source": [
    "def open_file():\n",
    "    with open(\"rosalind_fib.txt\", encoding=\"utf-8\") as f:\n",
    "        data = f.read()\n",
    "        columns = data.strip().split(\" \")\n",
    "        n_number = columns[0]\n",
    "        k_number = columns[1]\n",
    "        #print(n_number)\n",
    "        #print(k_number)\n",
    "        #print(n_number,k_number)\n",
    "        n = int(n_number)\n",
    "        k = int(k_number)\n",
    "    return n,k"
   ]
  },
  {
   "cell_type": "code",
   "execution_count": 100,
   "metadata": {
    "collapsed": true
   },
   "outputs": [],
   "source": [
    "def Fibonacci(n,k):\n",
    "    F =[1,1]\n",
    "    for a in range(0,n):\n",
    "        #print(a)\n",
    "        if a >1 :\n",
    "            F.append(F[a-1] + F[a-2]*k)\n",
    "    print(F)\n",
    "    correct_number = F[n-1]\n",
    "    return F[n-1]"
   ]
  },
  {
   "cell_type": "code",
   "execution_count": 101,
   "metadata": {},
   "outputs": [
    {
     "name": "stdout",
     "output_type": "stream",
     "text": [
      "[1, 1, 3, 5, 11, 21, 43, 85, 171, 341, 683, 1365, 2731, 5461, 10923, 21845, 43691, 87381, 174763, 349525, 699051, 1398101, 2796203, 5592405, 11184811, 22369621, 44739243, 89478485, 178956971, 357913941, 715827883, 1431655765, 2863311531]\n"
     ]
    },
    {
     "data": {
      "text/plain": [
       "2863311531"
      ]
     },
     "execution_count": 101,
     "metadata": {},
     "output_type": "execute_result"
    }
   ],
   "source": [
    "(n,k) = open_file()\n",
    "Fibonacci(n,k)"
   ]
  },
  {
   "cell_type": "code",
   "execution_count": null,
   "metadata": {
    "collapsed": true
   },
   "outputs": [],
   "source": []
  },
  {
   "cell_type": "code",
   "execution_count": null,
   "metadata": {
    "collapsed": true
   },
   "outputs": [],
   "source": []
  },
  {
   "cell_type": "code",
   "execution_count": null,
   "metadata": {
    "collapsed": true
   },
   "outputs": [],
   "source": []
  }
 ],
 "metadata": {
  "kernelspec": {
   "display_name": "Python 3",
   "language": "python",
   "name": "python3"
  },
  "language_info": {
   "codemirror_mode": {
    "name": "ipython",
    "version": 3
   },
   "file_extension": ".py",
   "mimetype": "text/x-python",
   "name": "python",
   "nbconvert_exporter": "python",
   "pygments_lexer": "ipython3",
   "version": "3.6.2"
  }
 },
 "nbformat": 4,
 "nbformat_minor": 2
}
