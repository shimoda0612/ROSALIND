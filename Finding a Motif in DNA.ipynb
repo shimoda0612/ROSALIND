{
 "cells": [
  {
   "cell_type": "code",
   "execution_count": 43,
   "metadata": {
    "collapsed": true
   },
   "outputs": [],
   "source": [
    "import re"
   ]
  },
  {
   "cell_type": "code",
   "execution_count": 44,
   "metadata": {
    "collapsed": true
   },
   "outputs": [],
   "source": [
    "def read_file():\n",
    "    data=[]\n",
    "    with open(\"rosalind_subs.txt\", encoding = \"utf-8\") as f:\n",
    "        for row in f:\n",
    "            column = row.rstrip()\n",
    "            #print(column)\n",
    "            data.append(column)\n",
    "        seq = data[0]\n",
    "        motif = data[1]\n",
    "        print(seq)\n",
    "        print(motif)\n",
    "    return (seq, motif)"
   ]
  },
  {
   "cell_type": "code",
   "execution_count": 45,
   "metadata": {
    "collapsed": true
   },
   "outputs": [],
   "source": [
    "def motif_find(seq,motif) :\n",
    "    a =[]\n",
    "    for i in range(len(seq)):\n",
    "        if seq[i:].startswith(motif):\n",
    "            a.append(str(i+1))\n",
    "    b = \" \".join(a)\n",
    "    return b"
   ]
  },
  {
   "cell_type": "code",
   "execution_count": 46,
   "metadata": {},
   "outputs": [
    {
     "name": "stdout",
     "output_type": "stream",
     "text": [
      "GCAGGGTAGTGGGTAGTGCGTCGGGTAGTCGAGGGGTAGTGGGTAGTGGGGTAGTTGGGTAGTTCCCGGGTAGTGGGTAGTAGAGGGTAGTGCAAGGGGTAGTGGGTAGTGGGTAGTTAAGGGTAGTTTAAGGGGTAGTACGTGGGTAGTGGGTAGTTGCGGGTAGTATTGGGTAGTAGGAGGGTAGTAGCGCCGGGTAGTCTGGGTAGTTAAGATCCCGGGGGTAGTAAGGGTAGTGGGTAGTACACTGGGGTAGTAGGGGGGTAGTGGGTAGTGGGGTAGTGAGCTTCGGGTAGTGTAGGGTAGTTAGGGGTAGTATTAGAGGGTAGTGGGTAGTTCGTGGGTAGTGATCTCGGGTAGTTGGGTAGTTGGGGTAGTTCTGGGTAGTGGGTAGTCGGGGTAGTCAGGGTAGTGGGTAGTAGGGGTAGTTGGGTAGTTTGGGTAGTGCGGGTAGTACACAGGGTAGTAGGGGTAGTGGGTAGTCGGGGTAGTGGGGTAGTTGAGTACTATGGGTAGTATGGGTAGTGGGGTAGTATCAGGGGGTAGTAGTGGGTAGTGGGTAGTACATTGGGGGTAGTCTGGGTAGTTAGTGGGGGTAGTCTGGGGGTAGTCCTTGGGTAGTAGGGTAGTGGGTAGTGGACCTCCGCGGGTAGTGGGTAGTTACGGGTAGTCTGGGGTAGTCACGGGTAGTCGACGGGTAGTGATGGGTAGTTTATCTCTGGGGTAGTAGGGTAGTAGGGGGTAGTGGGTAGTGTGACCGAGGGTAGTGGGTAGTAGGGGTAGTAGGGGTAGTTGGGGGTAGTTAGATGGACCCTGGGTAGTCGGGGTAGTGGGTAGTCGGGTAGTTACTGGGTACTAGGGTAGTCTCCTTCGAAACTGGGTAGTGGGTAGTGGGTAGTTGGCGGGTAGTGGGTAGTAGGGTAGTGCGGGTAGTCGGGGTAGT\n",
      "GGGTAGTGG\n",
      "4 34 41 68 97 104 144 231 262 269 324 382 407 470 486 520 551 624 631 648 740 762 825 879 886 904\n"
     ]
    }
   ],
   "source": [
    "if __name__ == \"__main__\" :\n",
    "    seq, motif = read_file()\n",
    "    print(motif_find(seq,motif))"
   ]
  },
  {
   "cell_type": "code",
   "execution_count": null,
   "metadata": {
    "collapsed": true
   },
   "outputs": [],
   "source": []
  },
  {
   "cell_type": "code",
   "execution_count": 27,
   "metadata": {},
   "outputs": [
    {
     "data": {
      "text/plain": [
       "[(0, 0), (2, 2), (5, 5)]"
      ]
     },
     "execution_count": 27,
     "metadata": {},
     "output_type": "execute_result"
    }
   ],
   "source": [
    "s = \"TATATTAT\"\n",
    "t = \"TAT\"\n",
    "[(m.start(0), m.end(0)) for m in re.finditer('(?='+t+')',s)]"
   ]
  },
  {
   "cell_type": "code",
   "execution_count": 28,
   "metadata": {},
   "outputs": [
    {
     "name": "stdout",
     "output_type": "stream",
     "text": [
      "2 4 10\n"
     ]
    }
   ],
   "source": [
    "import regex as re\n",
    "\n",
    "def motif_find(seq, motif) :\n",
    "    count_total =[]\n",
    "    re_count_total =\"\"\n",
    "    matches = re.finditer(motif,seq,overlapped = True)\n",
    "    for match in matches :\n",
    "        count = str(match.start() + 1)\n",
    "        count_total.append(count)\n",
    "    re_count_total = \" \".join(count_total)\n",
    "    print(re_count_total)\n",
    "    \n",
    "if __name__ == \"__main__\" :\n",
    "    motif_find(\"GATATATGCATATACTT\",\"ATAT\")"
   ]
  },
  {
   "cell_type": "markdown",
   "metadata": {},
   "source": [
    "stackoverflow"
   ]
  },
  {
   "cell_type": "code",
   "execution_count": 29,
   "metadata": {},
   "outputs": [
    {
     "data": {
      "text/plain": [
       "[(0, 2), (9, 11)]"
      ]
     },
     "execution_count": 29,
     "metadata": {},
     "output_type": "execute_result"
    }
   ],
   "source": [
    "import re\n",
    "[(m.start(0), m.end(0)) for m in re.finditer(\"12\",  \"123456789123456789\")]"
   ]
  },
  {
   "cell_type": "code",
   "execution_count": 30,
   "metadata": {},
   "outputs": [
    {
     "name": "stdout",
     "output_type": "stream",
     "text": [
      "2\n"
     ]
    }
   ],
   "source": [
    "def motif_find(seq,motif) :\n",
    "    I = [seq[i:].startswith(motif) for i in range(len(seq))]\n",
    "    return I.count(True)\n",
    "\n",
    "if __name__ == \"__main__\" :\n",
    "    print(motif_find(\"GATATATGCATAATACTT\",\"ATAT\"))"
   ]
  }
 ],
 "metadata": {
  "kernelspec": {
   "display_name": "Python 3",
   "language": "python",
   "name": "python3"
  },
  "language_info": {
   "codemirror_mode": {
    "name": "ipython",
    "version": 3
   },
   "file_extension": ".py",
   "mimetype": "text/x-python",
   "name": "python",
   "nbconvert_exporter": "python",
   "pygments_lexer": "ipython3",
   "version": "3.6.2"
  }
 },
 "nbformat": 4,
 "nbformat_minor": 2
}
