{
 "cells": [
  {
   "cell_type": "code",
   "execution_count": 23,
   "metadata": {},
   "outputs": [
    {
     "name": "stdout",
     "output_type": "stream",
     "text": [
      "GTTACTATGGGCGACTAAAGTACTAAGCAACAAAACTATAGCCGCGCCACCCAGACCATGTTGATCAAGTCTGTGTATGTCTTAGGCCCTCCGGCGATAACGTCCCCGAACCTTCCAATCGGTAGCGTTACATGTTAAGTGAAGTGTGAAGCGGGATCGCGATCAGAAACTCCACAGGCGTCGAATTTTTTCCCTCTTTATTACGGGAATAAACGCTTATCAGTAATCCCGGTCAAAAAACCTCGGCACCGGATTAGCCGGAACCGGAGATTGAGCTAGAGTAGGCTGTCAGTTGACGGCTAATTCACGCACGATCAAGGTGATCGAACATACCAGCGGGTCCCAAACGCGGTAGGCCTCTGTTCCTTTCATCGTTGCTCAGCCGTACGCTCGCGCTAATGGCTGGTTTGGGCGTAGGTCTTCATACATACATAGGTCATACGCATGTCATTAAAGGGGGCAGTCTGTGTAGTAAGCAAAAAGGTTGAGGAGAGAGTGACGGACATGGTCCCATTTAGGACTTAGTCAGAACTGGCGGAAGGTGGTAGCAGAGCGTTTCAGGGACGGGAAACGAGTCATTGACAGAGGTTATAGGCAACCCAAGTGCTGCATTTTGCGTACGGACGCCAGCAATAAGGATGACCTGTACTCAGCGTTAACACTAGCTTTTTTAATCCTCGTCGAGCAGTGCAGCGATGAACACGGGATAATGATCCGCCAAAACGCCCACTACGGTGAAGAATGCCCAGTATACTAGTGTAATGGTACATCTCGAACTATTCGCCCTTACCATTTCTTCGCCATCATGTCTTCCTACCGACGATAAATAGACATACCAAGGACCTACCGACGTCGGAACATTTCCATCGTTATTAGGCAGGTCACGTGCGTGCCAAAGCACCTTAAACATTTGTGAAGGTACACGCTTTG\n",
      "\n",
      "251 225 232 222\n"
     ]
    }
   ],
   "source": [
    "with open(\"rosalind_dna.txt\", encoding = \"utf-8\") as f :\n",
    "    count_A=0\n",
    "    count_T=0\n",
    "    count_G=0\n",
    "    count_C=0\n",
    "    \n",
    "    for row in f :\n",
    "        print(row)\n",
    "        for nucleotid in row : \n",
    "            if \"A\" in nucleotid :\n",
    "                count_A +=1\n",
    "            elif \"T\" in nucleotid :\n",
    "                count_T +=1\n",
    "            elif \"G\" in nucleotid :\n",
    "                count_G +=1\n",
    "            elif \"C\" in nucleotid:\n",
    "                count_C +=1\n",
    "    print(count_A,count_C,count_G,count_T)"
   ]
  },
  {
   "cell_type": "code",
   "execution_count": 30,
   "metadata": {},
   "outputs": [
    {
     "name": "stdout",
     "output_type": "stream",
     "text": [
      "GTTACTATGGGCGACTAAAGTACTAAGCAACAAAACTATAGCCGCGCCACCCAGACCATGTTGATCAAGTCTGTGTATGTCTTAGGCCCTCCGGCGATAACGTCCCCGAACCTTCCAATCGGTAGCGTTACATGTTAAGTGAAGTGTGAAGCGGGATCGCGATCAGAAACTCCACAGGCGTCGAATTTTTTCCCTCTTTATTACGGGAATAAACGCTTATCAGTAATCCCGGTCAAAAAACCTCGGCACCGGATTAGCCGGAACCGGAGATTGAGCTAGAGTAGGCTGTCAGTTGACGGCTAATTCACGCACGATCAAGGTGATCGAACATACCAGCGGGTCCCAAACGCGGTAGGCCTCTGTTCCTTTCATCGTTGCTCAGCCGTACGCTCGCGCTAATGGCTGGTTTGGGCGTAGGTCTTCATACATACATAGGTCATACGCATGTCATTAAAGGGGGCAGTCTGTGTAGTAAGCAAAAAGGTTGAGGAGAGAGTGACGGACATGGTCCCATTTAGGACTTAGTCAGAACTGGCGGAAGGTGGTAGCAGAGCGTTTCAGGGACGGGAAACGAGTCATTGACAGAGGTTATAGGCAACCCAAGTGCTGCATTTTGCGTACGGACGCCAGCAATAAGGATGACCTGTACTCAGCGTTAACACTAGCTTTTTTAATCCTCGTCGAGCAGTGCAGCGATGAACACGGGATAATGATCCGCCAAAACGCCCACTACGGTGAAGAATGCCCAGTATACTAGTGTAATGGTACATCTCGAACTATTCGCCCTTACCATTTCTTCGCCATCATGTCTTCCTACCGACGATAAATAGACATACCAAGGACCTACCGACGTCGGAACATTTCCATCGTTATTAGGCAGGTCACGTGCGTGCCAAAGCACCTTAAACATTTGTGAAGGTACACGCTTTG\n",
      "\n",
      "(251, 232, 225, 222)\n"
     ]
    }
   ],
   "source": [
    "with open(\"rosalind_dna.txt\", encoding = \"utf-8\") as f :\n",
    "    for row in f :\n",
    "        print(row)\n",
    "    def qt(s):\n",
    "        return s.count(\"A\"), s.count(\"G\"), s.count(\"C\"), s.count(\"T\")\n",
    "    \n",
    "    a = row\n",
    "    a = qt(row)\n",
    "    print(a)"
   ]
  },
  {
   "cell_type": "code",
   "execution_count": 31,
   "metadata": {},
   "outputs": [
    {
     "name": "stdout",
     "output_type": "stream",
     "text": [
      "251 225 232 222\n"
     ]
    }
   ],
   "source": [
    "def read_file():\n",
    "    f = open('rosalind_dna.txt', 'r')\n",
    "    dnastr = f.read()\n",
    "    return dnastr\n",
    "\n",
    "def main(dnastr):\n",
    "    test = {'A' : 0, 'C' : 0, 'G' : 0, 'T' : 0}\n",
    "    dnalst = list(dnastr)\n",
    "    for key in test:\n",
    "        test[key] = dnalst.count(key)\n",
    "    print(str(test['A']) + ' ' + str(test['C']) + ' ' + str(test['G']) + ' ' +\n",
    "          str(test['T']))\n",
    "\n",
    "if __name__ == '__main__':\n",
    "    dnastr = read_file()\n",
    "    main(dnastr)"
   ]
  },
  {
   "cell_type": "code",
   "execution_count": 34,
   "metadata": {},
   "outputs": [
    {
     "name": "stdout",
     "output_type": "stream",
     "text": [
      "251 225 232  222\n"
     ]
    }
   ],
   "source": [
    "def read_file() : \n",
    "    with open(\"rosalind_dna.txt\", \"r\", encoding = \"utf-8\") as f :\n",
    "        dna_str = f.read()\n",
    "        return dna_str\n",
    "\n",
    "def main(dnastr) : \n",
    "    count = {\"A\":0, \"C\":0, \"G\":0, \"T\":0}\n",
    "    dnalst = list(dnastr)\n",
    "    for nuc in count :\n",
    "        count[nuc] = dnalst.count(nuc)\n",
    "    print(str(count[\"A\"])+\" \"+str(count[\"C\"])+\" \"+str(count[\"G\"])+\" \"+ \" \"+ str(count[\"T\"]))\n",
    "    \n",
    "if __name__ == \"__main__\" :\n",
    "    dnastr = read_file()\n",
    "    main(dnastr)"
   ]
  },
  {
   "cell_type": "code",
   "execution_count": null,
   "metadata": {
    "collapsed": true
   },
   "outputs": [],
   "source": []
  }
 ],
 "metadata": {
  "kernelspec": {
   "display_name": "Python 3",
   "language": "python",
   "name": "python3"
  },
  "language_info": {
   "codemirror_mode": {
    "name": "ipython",
    "version": 3
   },
   "file_extension": ".py",
   "mimetype": "text/x-python",
   "name": "python",
   "nbconvert_exporter": "python",
   "pygments_lexer": "ipython3",
   "version": "3.6.2"
  }
 },
 "nbformat": 4,
 "nbformat_minor": 2
}
