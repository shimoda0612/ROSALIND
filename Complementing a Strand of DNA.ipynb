{
 "cells": [
  {
   "cell_type": "code",
   "execution_count": 34,
   "metadata": {},
   "outputs": [
    {
     "name": "stdout",
     "output_type": "stream",
     "text": [
      "AAATTACATTCACCTGAATTGGAGTAATTTTTTCAGTACCCTTGGCCGCTTTTCGTAATTTTAAATCGTGTGCTGTCGTGGACCCGGGTAAACGCCGACTTACAGTCGGTCCCCTCAACCTGTCCACTCGCCAACGGAATTCAGCCGTTTCGCGACACTGGCTGGTGCCGCTAAGGCTCGGCACTCTTTCCACTTTACGGACACAAGAGGAGAGGTAGATCCTGCAATATAACTACGTCTTGAAACACCCGGGCCATGAATGACGTTCTAGGCATAACCACAGATTGCCTGTTTGTTGAGATTGACGATCTAGAGCCCTATGCATACTTGACGAACATATCTATTTTACGTAGTTTTACCCGATCCACATGATCAGTGAGCCTACGATACATTACATCCACGCCATCCCGAATTTGTATGCCCAATACAATACAGCAGCTGATGAGCCTTTTCAGGGATCAATCAATGACCATATTCAATACTGCTAAGGGGCGCTTTAGTTAGCAAAGGGCTCACGAGAAGATGGCGAGTGATTTGTAACTCTCGGCTTTGCTGAGCTCGCTACTGGACCTGAATTCATTGGTCTCCAGCTTGTCCCGGGCTAGACAGTGATCGCTGAGTTTGTGGAGGCCTTTAGCATGGGGGTGAATTTGTGGTCCCTAGGAAGTTCGGGGGCACCTTTCTCCCGCTCAAATGCCTATGCGCGCATTATTTTTGCAATTTAGAGGGGCTCAAGCGGCCGGATGAGCTCTGATTCGAGGGTGACCCTTAGCGCACTATTGTGCTCGGTCGGTAGTATGTCCACCAATATACCATGATACCAGTAACAGTCCACCTATTTTCTGTTGAATGCACGTTCCATACCTCAGTCTAACAGTTGCCGGCCATATT\n",
      "\n",
      "['T', 'T', 'T', 'A', 'A', 'T', 'G', 'T', 'A', 'A', 'G', 'T', 'G', 'G', 'A', 'C', 'T', 'T', 'A', 'A', 'C', 'C', 'T', 'C', 'A', 'T', 'T', 'A', 'A', 'A', 'A', 'A', 'A', 'G', 'T', 'C', 'A', 'T', 'G', 'G', 'G', 'A', 'A', 'C', 'C', 'G', 'G', 'C', 'G', 'A', 'A', 'A', 'A', 'G', 'C', 'A', 'T', 'T', 'A', 'A', 'A', 'A', 'T', 'T', 'T', 'A', 'G', 'C', 'A', 'C', 'A', 'C', 'G', 'A', 'C', 'A', 'G', 'C', 'A', 'C', 'C', 'T', 'G', 'G', 'G', 'C', 'C', 'C', 'A', 'T', 'T', 'T', 'G', 'C', 'G', 'G', 'C', 'T', 'G', 'A', 'A', 'T', 'G', 'T', 'C', 'A', 'G', 'C', 'C', 'A', 'G', 'G', 'G', 'G', 'A', 'G', 'T', 'T', 'G', 'G', 'A', 'C', 'A', 'G', 'G', 'T', 'G', 'A', 'G', 'C', 'G', 'G', 'T', 'T', 'G', 'C', 'C', 'T', 'T', 'A', 'A', 'G', 'T', 'C', 'G', 'G', 'C', 'A', 'A', 'A', 'G', 'C', 'G', 'C', 'T', 'G', 'T', 'G', 'A', 'C', 'C', 'G', 'A', 'C', 'C', 'A', 'C', 'G', 'G', 'C', 'G', 'A', 'T', 'T', 'C', 'C', 'G', 'A', 'G', 'C', 'C', 'G', 'T', 'G', 'A', 'G', 'A', 'A', 'A', 'G', 'G', 'T', 'G', 'A', 'A', 'A', 'T', 'G', 'C', 'C', 'T', 'G', 'T', 'G', 'T', 'T', 'C', 'T', 'C', 'C', 'T', 'C', 'T', 'C', 'C', 'A', 'T', 'C', 'T', 'A', 'G', 'G', 'A', 'C', 'G', 'T', 'T', 'A', 'T', 'A', 'T', 'T', 'G', 'A', 'T', 'G', 'C', 'A', 'G', 'A', 'A', 'C', 'T', 'T', 'T', 'G', 'T', 'G', 'G', 'G', 'C', 'C', 'C', 'G', 'G', 'T', 'A', 'C', 'T', 'T', 'A', 'C', 'T', 'G', 'C', 'A', 'A', 'G', 'A', 'T', 'C', 'C', 'G', 'T', 'A', 'T', 'T', 'G', 'G', 'T', 'G', 'T', 'C', 'T', 'A', 'A', 'C', 'G', 'G', 'A', 'C', 'A', 'A', 'A', 'C', 'A', 'A', 'C', 'T', 'C', 'T', 'A', 'A', 'C', 'T', 'G', 'C', 'T', 'A', 'G', 'A', 'T', 'C', 'T', 'C', 'G', 'G', 'G', 'A', 'T', 'A', 'C', 'G', 'T', 'A', 'T', 'G', 'A', 'A', 'C', 'T', 'G', 'C', 'T', 'T', 'G', 'T', 'A', 'T', 'A', 'G', 'A', 'T', 'A', 'A', 'A', 'A', 'T', 'G', 'C', 'A', 'T', 'C', 'A', 'A', 'A', 'A', 'T', 'G', 'G', 'G', 'C', 'T', 'A', 'G', 'G', 'T', 'G', 'T', 'A', 'C', 'T', 'A', 'G', 'T', 'C', 'A', 'C', 'T', 'C', 'G', 'G', 'A', 'T', 'G', 'C', 'T', 'A', 'T', 'G', 'T', 'A', 'A', 'T', 'G', 'T', 'A', 'G', 'G', 'T', 'G', 'C', 'G', 'G', 'T', 'A', 'G', 'G', 'G', 'C', 'T', 'T', 'A', 'A', 'A', 'C', 'A', 'T', 'A', 'C', 'G', 'G', 'G', 'T', 'T', 'A', 'T', 'G', 'T', 'T', 'A', 'T', 'G', 'T', 'C', 'G', 'T', 'C', 'G', 'A', 'C', 'T', 'A', 'C', 'T', 'C', 'G', 'G', 'A', 'A', 'A', 'A', 'G', 'T', 'C', 'C', 'C', 'T', 'A', 'G', 'T', 'T', 'A', 'G', 'T', 'T', 'A', 'C', 'T', 'G', 'G', 'T', 'A', 'T', 'A', 'A', 'G', 'T', 'T', 'A', 'T', 'G', 'A', 'C', 'G', 'A', 'T', 'T', 'C', 'C', 'C', 'C', 'G', 'C', 'G', 'A', 'A', 'A', 'T', 'C', 'A', 'A', 'T', 'C', 'G', 'T', 'T', 'T', 'C', 'C', 'C', 'G', 'A', 'G', 'T', 'G', 'C', 'T', 'C', 'T', 'T', 'C', 'T', 'A', 'C', 'C', 'G', 'C', 'T', 'C', 'A', 'C', 'T', 'A', 'A', 'A', 'C', 'A', 'T', 'T', 'G', 'A', 'G', 'A', 'G', 'C', 'C', 'G', 'A', 'A', 'A', 'C', 'G', 'A', 'C', 'T', 'C', 'G', 'A', 'G', 'C', 'G', 'A', 'T', 'G', 'A', 'C', 'C', 'T', 'G', 'G', 'A', 'C', 'T', 'T', 'A', 'A', 'G', 'T', 'A', 'A', 'C', 'C', 'A', 'G', 'A', 'G', 'G', 'T', 'C', 'G', 'A', 'A', 'C', 'A', 'G', 'G', 'G', 'C', 'C', 'C', 'G', 'A', 'T', 'C', 'T', 'G', 'T', 'C', 'A', 'C', 'T', 'A', 'G', 'C', 'G', 'A', 'C', 'T', 'C', 'A', 'A', 'A', 'C', 'A', 'C', 'C', 'T', 'C', 'C', 'G', 'G', 'A', 'A', 'A', 'T', 'C', 'G', 'T', 'A', 'C', 'C', 'C', 'C', 'C', 'A', 'C', 'T', 'T', 'A', 'A', 'A', 'C', 'A', 'C', 'C', 'A', 'G', 'G', 'G', 'A', 'T', 'C', 'C', 'T', 'T', 'C', 'A', 'A', 'G', 'C', 'C', 'C', 'C', 'C', 'G', 'T', 'G', 'G', 'A', 'A', 'A', 'G', 'A', 'G', 'G', 'G', 'C', 'G', 'A', 'G', 'T', 'T', 'T', 'A', 'C', 'G', 'G', 'A', 'T', 'A', 'C', 'G', 'C', 'G', 'C', 'G', 'T', 'A', 'A', 'T', 'A', 'A', 'A', 'A', 'A', 'C', 'G', 'T', 'T', 'A', 'A', 'A', 'T', 'C', 'T', 'C', 'C', 'C', 'C', 'G', 'A', 'G', 'T', 'T', 'C', 'G', 'C', 'C', 'G', 'G', 'C', 'C', 'T', 'A', 'C', 'T', 'C', 'G', 'A', 'G', 'A', 'C', 'T', 'A', 'A', 'G', 'C', 'T', 'C', 'C', 'C', 'A', 'C', 'T', 'G', 'G', 'G', 'A', 'A', 'T', 'C', 'G', 'C', 'G', 'T', 'G', 'A', 'T', 'A', 'A', 'C', 'A', 'C', 'G', 'A', 'G', 'C', 'C', 'A', 'G', 'C', 'C', 'A', 'T', 'C', 'A', 'T', 'A', 'C', 'A', 'G', 'G', 'T', 'G', 'G', 'T', 'T', 'A', 'T', 'A', 'T', 'G', 'G', 'T', 'A', 'C', 'T', 'A', 'T', 'G', 'G', 'T', 'C', 'A', 'T', 'T', 'G', 'T', 'C', 'A', 'G', 'G', 'T', 'G', 'G', 'A', 'T', 'A', 'A', 'A', 'A', 'G', 'A', 'C', 'A', 'A', 'C', 'T', 'T', 'A', 'C', 'G', 'T', 'G', 'C', 'A', 'A', 'G', 'G', 'T', 'A', 'T', 'G', 'G', 'A', 'G', 'T', 'C', 'A', 'G', 'A', 'T', 'T', 'G', 'T', 'C', 'A', 'A', 'C', 'G', 'G', 'C', 'C', 'G', 'G', 'T', 'A', 'T', 'A', 'A']\n",
      "TTTAATGTAAGTGGACTTAACCTCATTAAAAAAGTCATGGGAACCGGCGAAAAGCATTAAAATTTAGCACACGACAGCACCTGGGCCCATTTGCGGCTGAATGTCAGCCAGGGGAGTTGGACAGGTGAGCGGTTGCCTTAAGTCGGCAAAGCGCTGTGACCGACCACGGCGATTCCGAGCCGTGAGAAAGGTGAAATGCCTGTGTTCTCCTCTCCATCTAGGACGTTATATTGATGCAGAACTTTGTGGGCCCGGTACTTACTGCAAGATCCGTATTGGTGTCTAACGGACAAACAACTCTAACTGCTAGATCTCGGGATACGTATGAACTGCTTGTATAGATAAAATGCATCAAAATGGGCTAGGTGTACTAGTCACTCGGATGCTATGTAATGTAGGTGCGGTAGGGCTTAAACATACGGGTTATGTTATGTCGTCGACTACTCGGAAAAGTCCCTAGTTAGTTACTGGTATAAGTTATGACGATTCCCCGCGAAATCAATCGTTTCCCGAGTGCTCTTCTACCGCTCACTAAACATTGAGAGCCGAAACGACTCGAGCGATGACCTGGACTTAAGTAACCAGAGGTCGAACAGGGCCCGATCTGTCACTAGCGACTCAAACACCTCCGGAAATCGTACCCCCACTTAAACACCAGGGATCCTTCAAGCCCCCGTGGAAAGAGGGCGAGTTTACGGATACGCGCGTAATAAAAACGTTAAATCTCCCCGAGTTCGCCGGCCTACTCGAGACTAAGCTCCCACTGGGAATCGCGTGATAACACGAGCCAGCCATCATACAGGTGGTTATATGGTACTATGGTCATTGTCAGGTGGATAAAAGACAACTTACGTGCAAGGTATGGAGTCAGATTGTCAACGGCCGGTATAA\n",
      "AATATGGCCGGCAACTGTTAGACTGAGGTATGGAACGTGCATTCAACAGAAAATAGGTGGACTGTTACTGGTATCATGGTATATTGGTGGACATACTACCGACCGAGCACAATAGTGCGCTAAGGGTCACCCTCGAATCAGAGCTCATCCGGCCGCTTGAGCCCCTCTAAATTGCAAAAATAATGCGCGCATAGGCATTTGAGCGGGAGAAAGGTGCCCCCGAACTTCCTAGGGACCACAAATTCACCCCCATGCTAAAGGCCTCCACAAACTCAGCGATCACTGTCTAGCCCGGGACAAGCTGGAGACCAATGAATTCAGGTCCAGTAGCGAGCTCAGCAAAGCCGAGAGTTACAAATCACTCGCCATCTTCTCGTGAGCCCTTTGCTAACTAAAGCGCCCCTTAGCAGTATTGAATATGGTCATTGATTGATCCCTGAAAAGGCTCATCAGCTGCTGTATTGTATTGGGCATACAAATTCGGGATGGCGTGGATGTAATGTATCGTAGGCTCACTGATCATGTGGATCGGGTAAAACTACGTAAAATAGATATGTTCGTCAAGTATGCATAGGGCTCTAGATCGTCAATCTCAACAAACAGGCAATCTGTGGTTATGCCTAGAACGTCATTCATGGCCCGGGTGTTTCAAGACGTAGTTATATTGCAGGATCTACCTCTCCTCTTGTGTCCGTAAAGTGGAAAGAGTGCCGAGCCTTAGCGGCACCAGCCAGTGTCGCGAAACGGCTGAATTCCGTTGGCGAGTGGACAGGTTGAGGGGACCGACTGTAAGTCGGCGTTTACCCGGGTCCACGACAGCACACGATTTAAAATTACGAAAAGCGGCCAAGGGTACTGAAAAAATTACTCCAATTCAGGTGAATGTAATTT\n"
     ]
    }
   ],
   "source": [
    "def open_file():\n",
    "    with open(\"rosalind_revc.txt\", encoding=\"utf-8\") as f:\n",
    "        data = f.read()\n",
    "        print(data)\n",
    "    return data\n",
    "\n",
    "def reverse_complement(data):\n",
    "    complement_data = []\n",
    "    for a in data :\n",
    "        if a == \"A\":\n",
    "            complement_data.append(\"T\")\n",
    "        if a == \"T\" :\n",
    "            complement_data.append(\"A\")\n",
    "        if a == \"G\" :\n",
    "            complement_data.append(\"C\")\n",
    "        if a == \"C\" :\n",
    "            complement_data.append(\"G\")\n",
    "    print(complement_data)\n",
    "    \n",
    "    #make complement nucleotid \n",
    "    new_complement_data = \"\".join(complement_data)\n",
    "    print(new_complement_data)\n",
    "    \n",
    "    #reverse list data\n",
    "    reverse_complement_data = new_complement_data[::-1]\n",
    "    print(reverse_complement_data)\n",
    "\n",
    "if __name__ == \"__main__\" :\n",
    "    data = open_file()\n",
    "    reverse_complement(data)"
   ]
  },
  {
   "cell_type": "code",
   "execution_count": null,
   "metadata": {},
   "outputs": [],
   "source": []
  },
  {
   "cell_type": "code",
   "execution_count": null,
   "metadata": {
    "collapsed": true
   },
   "outputs": [],
   "source": []
  }
 ],
 "metadata": {
  "kernelspec": {
   "display_name": "Python 3",
   "language": "python",
   "name": "python3"
  },
  "language_info": {
   "codemirror_mode": {
    "name": "ipython",
    "version": 3
   },
   "file_extension": ".py",
   "mimetype": "text/x-python",
   "name": "python",
   "nbconvert_exporter": "python",
   "pygments_lexer": "ipython3",
   "version": "3.6.2"
  }
 },
 "nbformat": 4,
 "nbformat_minor": 2
}
