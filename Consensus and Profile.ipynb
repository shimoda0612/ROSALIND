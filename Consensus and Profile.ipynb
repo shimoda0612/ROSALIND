{
 "cells": [
  {
   "cell_type": "code",
   "execution_count": 145,
   "metadata": {
    "collapsed": true
   },
   "outputs": [],
   "source": [
    "def open_file():\n",
    "    new_dna_data = []\n",
    "    number_list = []\n",
    "    new_new_dna_data = []\n",
    "    with open(\"rosalind_cons.txt\" , encoding = \"utf-8\")as f:\n",
    "        data = f.read()\n",
    "        dna_data = data.strip().split(\">\")\n",
    "        del dna_data[0]\n",
    "        #print(dna_data)\n",
    "        for a in dna_data:\n",
    "            a = a.replace(\"\\n\",\"\").replace(\"Rosalind_\",\"\")\n",
    "            new_dna_data.append(a)\n",
    "        #print(new_dna_data)\n",
    "        for a in new_dna_data :\n",
    "            number = a[0:4]\n",
    "            number_list.append(number)\n",
    "            a = a.replace(number,\"\")\n",
    "            new_new_dna_data.append(a)\n",
    "        #print(number_list)\n",
    "        #print(new_new_dna_data)\n",
    "    return(number_list,new_new_dna_data)"
   ]
  },
  {
   "cell_type": "code",
   "execution_count": 147,
   "metadata": {
    "scrolled": true
   },
   "outputs": [],
   "source": [
    "if __name__ == \"__main__\" :\n",
    "    number_list,new_new_dna_data = open_file()\n",
    "    #count_nuc(number_list,new_new_dna_data)\n"
   ]
  },
  {
   "cell_type": "code",
   "execution_count": 148,
   "metadata": {},
   "outputs": [
    {
     "name": "stdout",
     "output_type": "stream",
     "text": [
      "[0, 1, 2]\n"
     ]
    }
   ],
   "source": [
    "import numpy as np\n",
    "sample = [\"ATGCA\",\"GTACA\",\"AGGCT\"]\n",
    "zero = np.zeros((4,5)) \n",
    "zero_list = []\n",
    "for a in range(len(sample)) :\n",
    "    zero_list.append(a)\n",
    "\n",
    "print(zero_list)\n",
    "for (i,data) in enumerate (sample) :\n",
    "    list_A = []\n",
    "    list_C = []\n",
    "    list_G = []\n",
    "    list_T = []\n",
    "    for a in data :\n",
    "        if a == \"A\" :\n",
    "            list_A.append(1)\n",
    "            list_C.append(0)\n",
    "            list_T.append(0)\n",
    "            list_G.append(0)\n",
    "        elif a == \"C\" :\n",
    "            list_C.append(1)\n",
    "            list_A.append(0)\n",
    "            list_T.append(0)\n",
    "            list_G.append(0)\n",
    "        elif a == \"G\" :\n",
    "            list_G.append(1)\n",
    "            list_C.append(0)\n",
    "            list_T.append(0)\n",
    "            list_A.append(0)\n",
    "        elif a == \"T\" :\n",
    "            list_T.append(1)\n",
    "            list_C.append(0)\n",
    "            list_A.append(0)\n",
    "            list_G.append(0)\n",
    "    data_row = np.array([[list_A],[list_C],[list_G],[list_T]])\n",
    "    \n",
    "    "
   ]
  },
  {
   "cell_type": "code",
   "execution_count": 149,
   "metadata": {},
   "outputs": [
    {
     "name": "stdout",
     "output_type": "stream",
     "text": [
      "[[1 0 1 1 1]\n",
      " [1 0 0 0 0]\n",
      " [1 1 0 0 0]\n",
      " [0 0 0 0 1]]\n",
      "[[0 0 0 1 1]\n",
      " [1 1 1 1 1]\n",
      " [1 1 0 0 0]\n",
      " [0 0 0 0 1]]\n"
     ]
    },
    {
     "data": {
      "text/plain": [
       "array([[1, 0, 1, 2, 2],\n",
       "       [2, 1, 1, 1, 1],\n",
       "       [2, 2, 0, 0, 0],\n",
       "       [0, 0, 0, 0, 2]])"
      ]
     },
     "execution_count": 149,
     "metadata": {},
     "output_type": "execute_result"
    }
   ],
   "source": [
    "import numpy as np\n",
    "data_a = np.array([[1,0,1,1,1],[1,0,0,0,0],[1,1,0,0,0],[0,0,0,0,1]])\n",
    "data_b = np.array([[0,0,0,1,1],[1,1,1,1,1],[1,1,0,0,0],[0,0,0,0,1]])\n",
    "print(data_a)\n",
    "print(data_b)\n",
    "\n",
    "data_a + data_b"
   ]
  },
  {
   "cell_type": "code",
   "execution_count": null,
   "metadata": {
    "collapsed": true
   },
   "outputs": [],
   "source": []
  }
 ],
 "metadata": {
  "kernelspec": {
   "display_name": "Python 3",
   "language": "python",
   "name": "python3"
  },
  "language_info": {
   "codemirror_mode": {
    "name": "ipython",
    "version": 3
   },
   "file_extension": ".py",
   "mimetype": "text/x-python",
   "name": "python",
   "nbconvert_exporter": "python",
   "pygments_lexer": "ipython3",
   "version": "3.6.2"
  }
 },
 "nbformat": 4,
 "nbformat_minor": 2
}
